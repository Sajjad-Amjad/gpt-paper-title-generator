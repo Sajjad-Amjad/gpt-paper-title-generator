{
 "cells": [
  {
   "cell_type": "code",
   "execution_count": 2,
   "metadata": {},
   "outputs": [],
   "source": [
    "import pandas as pd\n",
    "import numpy as np\n",
    "import re\n",
    "import string\n",
    "import itertools\n",
    "import os.path\n",
    "import pickle as pkl\n",
    "import json\n",
    "from tqdm import tqdm\n",
    "import matplotlib.pyplot as plt"
   ]
  },
  {
   "cell_type": "markdown",
   "metadata": {},
   "source": [
    "# Search for exact matches"
   ]
  },
  {
   "cell_type": "code",
   "execution_count": 5,
   "metadata": {},
   "outputs": [
    {
     "name": "stdout",
     "output_type": "stream",
     "text": [
      "# generated titles 5000 # GT titles 14895\n",
      "# exact matches 0\n"
     ]
    },
    {
     "name": "stderr",
     "output_type": "stream",
     "text": [
      "/tmp/ipykernel_354835/3310117271.py:6: ParserWarning: Falling back to the 'python' engine because the 'c' engine does not support regex separators (separators > 1 char and different from '\\s+' are interpreted as regex); you can avoid this warning by specifying engine='python'.\n",
      "  titles_df = pd.read_csv(\n"
     ]
    }
   ],
   "source": [
    "# years = ['2022', '2023',\n",
    "        #  '2020', '2021', '2010', '2024', '2030', '2050']\n",
    "year = '2022'\n",
    "\n",
    "# load titles\n",
    "titles_df = pd.read_csv(\n",
    "    f'../samples/gptneo/{year}/titles.txt', sep='\\n\\n', header=None)\n",
    "titles_gen = titles_df[0].str.strip('\\\"\\' ')\n",
    "titles_len = titles_df[0].str.split().apply(len)\n",
    "\n",
    "titles_new_df = pd.read_pickle('../data/df_test_recent.pkl')\n",
    "titles_new = titles_new_df.title\n",
    "\n",
    "# plt.hist(titles_len)\n",
    "# plt.xlabel('Title num words')\n",
    "# plt.ylabel('Count')\n",
    "# plt.show()\n",
    "\n",
    "# Look for exact matches\n",
    "# For this to be kosher, need to make sure the model never saw\n",
    "# any titles within the dates of the test set.\n",
    "titles_overlap = []\n",
    "tg = titles_gen.str.lower().str.strip().values\n",
    "tn = titles_new.str.lower().str.strip().values\n",
    "print('# generated titles', tg.size, '# GT titles', tn.size)\n",
    "\n",
    "# exact matches\n",
    "for title_gen in tg:\n",
    "    if title_gen in tn:\n",
    "        print(title_gen)\n",
    "print('# exact matches', len(titles_overlap))"
   ]
  },
  {
   "cell_type": "markdown",
   "metadata": {},
   "source": [
    "# Look at closest BLEU matches"
   ]
  },
  {
   "cell_type": "code",
   "execution_count": 18,
   "metadata": {},
   "outputs": [],
   "source": [
    "closest_matches = pkl.load(open(f'../samples/gptneo/{year}/closest_matches_{year}.pkl', 'rb'))"
   ]
  },
  {
   "cell_type": "code",
   "execution_count": 19,
   "metadata": {},
   "outputs": [
    {
     "data": {
      "text/plain": [
       "{'tg': array(['understanding the effect of data augmentation in generative adversarial networks',\n",
       "        'adversarial attacks on graph neural networks',\n",
       "        'differentiable reinforcement learning for continuous control',\n",
       "        ..., 'multilevel self-modulation for low-latency communication',\n",
       "        'bipedal, unipedal, bipedal and unipodal human locomotion',\n",
       "        'neural model-based inversion for pervasive inertial measurements'],\n",
       "       dtype=object),\n",
       " 'tn': array(['understanding the effect of data augmentation in self-supervised anomaly detection',\n",
       "        'sparse vicious attacks on graph neural networks',\n",
       "        'normality-guided distributional reinforcement learning for continuous control',\n",
       "        ...,\n",
       "        'cedar: communication efficient distributed analysis for regressions',\n",
       "        'learning semantics-aware locomotion skills from human demonstration',\n",
       "        'convolutional neural networks for image spam detection'],\n",
       "       dtype=object),\n",
       " 'bleu': array([6.38943104e-001, 6.14788153e-001, 6.14788153e-001, ...,\n",
       "        1.33196040e-231, 1.33196040e-231, 1.33196040e-231])}"
      ]
     },
     "execution_count": 19,
     "metadata": {},
     "output_type": "execute_result"
    }
   ],
   "source": [
    "closest_matches"
   ]
  },
  {
   "cell_type": "code",
   "execution_count": 38,
   "metadata": {},
   "outputs": [
    {
     "data": {
      "image/png": "[encoded data removed]",
      "text/plain": [
       "<Figure size 640x480 with 1 Axes>"
      ]
     },
     "metadata": {},
     "output_type": "display_data"
    }
   ],
   "source": [
    "bleu = closest_matches['bleu']\n",
    "plt.hist(bleu, cumulative=True, bins=5000)\n",
    "plt.xlabel('BLEU Score for best match')\n",
    "plt.ylabel('Cumulative count (for 5000 generated samples)')\n",
    "plt.savefig('../docs/figs/bleu.svg', bbox_inches='tight')\n",
    "plt.show()"
   ]
  },
  {
   "cell_type": "code",
   "execution_count": 43,
   "metadata": {},
   "outputs": [
    {
     "name": "stdout",
     "output_type": "stream",
     "text": [
      "0\n",
      "\tGenerated: Understanding the effect of data augmentation in generative adversarial networks\n",
      "\tReal: Understanding the effect of data augmentation in self-supervised anomaly detection\n",
      "\t 0.09828989611606707\n",
      "1\n",
      "\tGenerated: Adversarial attacks on graph neural networks\n",
      "\tReal: Sparse vicious attacks on graph neural networks\n",
      "\t 0.09457409162941297\n",
      "2\n",
      "\tGenerated: Differentiable reinforcement learning for continuous control\n",
      "\tReal: Normality-guided distributional reinforcement learning for continuous control\n",
      "\t 0.09457409162941297\n",
      "3\n",
      "\tGenerated: Multilevel representation learning for time series forecasting\n",
      "\tReal: Out-of-distribution representation learning for time series classification\n",
      "\t 0.09457409162941297\n",
      "4\n",
      "\tGenerated: Unsupervised feature learning for medical image segmentation\n",
      "\tReal: Distributed contrastive learning for medical image segmentation\n",
      "\t 0.09457409162941297\n",
      "5\n",
      "\tGenerated: Deepreci: deep reinforcement learning for continuous control\n",
      "\tReal: Normality-guided distributional reinforcement learning for continuous control\n",
      "\t 0.09457409162941297\n",
      "6\n",
      "\tGenerated: Graph neural networks for node classification of networks\n",
      "\tReal: On calibration of graph neural networks for node classification\n",
      "\t 0.09391037279061229\n",
      "7\n",
      "\tGenerated: Deep learning for time series forecasting in mobile crowdsensing\n",
      "\tReal: Efficient automated deep learning for time series forecasting\n",
      "\t 0.09236515921200347\n",
      "8\n",
      "\tGenerated: Learning from positive and unlabeled data for outlier detection\n",
      "\tReal: Learning from positive and unlabeled data with augmented classes\n",
      "\t 0.09036013417659795\n",
      "9\n",
      "\tGenerated: Efficient policy learning with deep hierarchical reinforcement learning\n",
      "\tReal: Towards automated imbalanced learning with deep hierarchical reinforcement learning\n",
      "\t 0.09036013417659795\n"
     ]
    }
   ],
   "source": [
    "N = 10\n",
    "for i in range(N):\n",
    "    print(i)\n",
    "    print('\\tGenerated:', closest_matches['tg'][i].capitalize())\n",
    "    print('\\tReal:', closest_matches['tn'][i].capitalize())\n",
    "    print('\\t', closest_matches['bleu'][i])"
   ]
  },
  {
   "cell_type": "code",
   "execution_count": null,
   "metadata": {},
   "outputs": [],
   "source": []
  }
 ],
 "metadata": {
  "kernelspec": {
   "display_name": "Python 3.8.10 ('.autoprompt')",
   "language": "python",
   "name": "python3"
  },
  "language_info": {
   "codemirror_mode": {
    "name": "ipython",
    "version": 3
   },
   "file_extension": ".py",
   "mimetype": "text/x-python",
   "name": "python",
   "nbconvert_exporter": "python",
   "pygments_lexer": "ipython3",
   "version": "3.8.10"
  },
  "orig_nbformat": 4,
  "vscode": {
   "interpreter": {
    "hash": "d71ec94c00c8b9344a5c2d659d4374f2bc1ab97c860e619b1459df82f55983d1"
   }
  }
 },
 "nbformat": 4,
 "nbformat_minor": 2
}
