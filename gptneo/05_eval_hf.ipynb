{
 "cells": [
  {
   "cell_type": "code",
   "execution_count": 5,
   "metadata": {},
   "outputs": [],
   "source": [
    "# Follow tutorial from here: https://huggingface.co/docs/transformers/v4.17.0/en/tasks/language_modeling\n",
    "import pandas as pd\n",
    "import seaborn as sns\n",
    "import matplotlib.pyplot as plt\n",
    "import numpy as np\n",
    "from sklearn.model_selection import train_test_split\n",
    "import json\n",
    "import torch\n",
    "import datasets\n",
    "from transformers import AutoTokenizer, DataCollatorWithPadding, AutoModelForCausalLM, TrainingArguments, Trainer, DataCollatorForLanguageModeling\n",
    "\n",
    "# hyperparams\n",
    "# checkpoint = \"EleutherAI/gpt-j-6B\"\n",
    "checkpoint = \"EleutherAI/gpt-neo-2.7B\"\n",
    "tokenizer = AutoTokenizer.from_pretrained(checkpoint)\n",
    "tokenizer.pad_token = tokenizer.eos_token\n",
    "\n",
    "# load model\n",
    "checkpoint_dir = f'./title-{checkpoint.replace(\"/\", \"__\")}/checkpoint-50'\n",
    "mod = AutoModelForCausalLM.from_pretrained(\n",
    "    # checkpoint,\n",
    "    checkpoint_dir,\n",
    "    # revision=\"float16\",\n",
    "    # torch_dtype=torch.float16,\n",
    "    # low_cpu_mem_usage=True\n",
    ")\n",
    "# mod = mod.half()"
   ]
  },
  {
   "cell_type": "code",
   "execution_count": 6,
   "metadata": {},
   "outputs": [
    {
     "name": "stderr",
     "output_type": "stream",
     "text": [
      "Setting `pad_token_id` to `eos_token_id`:198 for open-end generation.\n"
     ]
    },
    {
     "data": {
      "text/plain": [
       "['2020: An algorithm for dimensioning time series\\n\\n\\n\\n\\n\\n\\n\\n\\n\\n\\n',\n",
       " '2020: A deep learning for the analysis of large scale healthcare-specific problems using large-scale mathematical',\n",
       " '2020: A Supervised Neural Network for Mult-Image Supervised Learning\\n\\n\\n\\n\\n\\n',\n",
       " '2020: High Order Nonlinear Framework for the analysis of nonlinear Interaction networks in Neural Networks\\n',\n",
       " '2020: The Dual-observational-based AI for non-object-based nonlinear classification',\n",
       " '2020: A linearization-based deep learning approach for differential diagnosis of severe COVID-19 pneumonia',\n",
       " '2020: A study of the cognitive architecture of rational argumentation\\n\\n\\n\\n\\n\\n\\n\\n',\n",
       " '2020: A comparative Study\\n\\n\\n\\n\\n\\n\\n\\n\\n\\n\\n\\n\\n\\n\\n',\n",
       " '2020: A Deep Learning Approach to Appraisal of the Adversarial Robustness of Sal',\n",
       " '2020: Distual-limb segmentation for patients with stroke using deep CNN\\n\\n\\n\\n',\n",
       " '2020: A note on the Adversarial Robustness of Neural Networks\\n\\n\\n\\n\\n',\n",
       " '2020: $\\\\beta$-galactonometric analysis\\n\\n\\n\\n\\n\\n\\n\\n\\n',\n",
       " '2020: Deep learning from the Multivariate Neural Networks for Deep Neural Networks of Complex Medical Image Segment',\n",
       " '2020: A review\\n\\n\\n\\n\\n\\n\\n\\n\\n\\n\\n\\n\\n\\n\\n\\n',\n",
       " '2020: A superpixelation approach for deep learning in-orbit satellite recovery\\n\\n\\n\\n\\n',\n",
       " '2020: Multivariate Neural Networks for the Multivariate Analysis of Nonlinear Medical Image Segmentation\\n',\n",
       " '2020: A neural Networks Applied to Moderate Dimensions of Multivariate Neural Networks“\\n\\n\\n\\n',\n",
       " '2020: A small non-extended neural network for Image Classification\\n\\n\\n\\n\\n\\n\\n',\n",
       " '2020: Self-Supervised Supervision Framework for Deep Learning Self-Supervised Learning of Object Classification',\n",
       " '2020: on the dynamics of the nonlinear neural Networks for predicting the future behaviour of small animals\\n',\n",
       " '2020: Empirical research with non-inferring circular shooters\\n\\n\\n\\n\\n\\n',\n",
       " '2020: Self-Supervised AI Learning for Non-Linear Analysis of Time Series Forecasting\\n',\n",
       " '2020: Review\\n\\n\\n\\n\\n\\n\\n\\n\\n\\n\\n\\n\\n\\n\\n\\n\\n',\n",
       " '2020: A neural network for Model Reconstruction\\n\\n\\n\\n\\n\\n\\n\\n\\n\\n\\n\\n',\n",
       " '2020: Neural Networks for Model-Based Group Recommendations from Target-based Object Object Classification\\n\\n',\n",
       " '2020: A remark on parametric optimal control problems under parametric uncertainty\\n\\n\\n\\n\\n\\n',\n",
       " '2020: A study of neural Networks with application for Mult-shot Learning\\n\\n\\n\\n\\n\\n',\n",
       " '2020: A Study by Deep Learning of Neural Networks of Neural Networks with Implicit Group Recognition of',\n",
       " '2020: Improving the neural Networks for the Classification of Eye Region Extended Image Diabetic Retin',\n",
       " '2020: An extended analysis of the neural Networks’ Actionable Training techniques\\n\\n\\n\\n\\n']"
      ]
     },
     "execution_count": 6,
     "metadata": {},
     "output_type": "execute_result"
    }
   ],
   "source": [
    "# decode some examples\n",
    "s = '2020:'\n",
    "eos_token_id = tokenizer('\\n')['input_ids'][0]\n",
    "inputs = tokenizer(s, return_tensors='pt')\n",
    "outputs = mod.generate(\n",
    "    **inputs,\n",
    "    do_sample=True,\n",
    "    eos_token_id=eos_token_id,\n",
    "    num_return_sequences=30,\n",
    ")\n",
    "tokenizer.batch_decode(outputs, skip_special_tokens=True)"
   ]
  },
  {
   "cell_type": "code",
   "execution_count": null,
   "metadata": {},
   "outputs": [],
   "source": []
  }
 ],
 "metadata": {
  "kernelspec": {
   "display_name": "Python 3.8.10 ('.autoprompt')",
   "language": "python",
   "name": "python3"
  },
  "language_info": {
   "codemirror_mode": {
    "name": "ipython",
    "version": 3
   },
   "file_extension": ".py",
   "mimetype": "text/x-python",
   "name": "python",
   "nbconvert_exporter": "python",
   "pygments_lexer": "ipython3",
   "version": "3.8.10"
  },
  "orig_nbformat": 4,
  "vscode": {
   "interpreter": {
    "hash": "d71ec94c00c8b9344a5c2d659d4374f2bc1ab97c860e619b1459df82f55983d1"
   }
  }
 },
 "nbformat": 4,
 "nbformat_minor": 2
}
