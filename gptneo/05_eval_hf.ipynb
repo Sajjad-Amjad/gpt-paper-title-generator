{
 "cells": [
  {
   "cell_type": "code",
   "execution_count": 1,
   "metadata": {},
   "outputs": [],
   "source": [
    "# Follow tutorial from here: https://huggingface.co/docs/transformers/v4.17.0/en/tasks/language_modeling\n",
    "import pandas as pd\n",
    "import seaborn as sns\n",
    "import matplotlib.pyplot as plt\n",
    "import numpy as np\n",
    "from sklearn.model_selection import train_test_split\n",
    "import json\n",
    "import torch\n",
    "import datasets\n",
    "from transformers import AutoTokenizer, DataCollatorWithPadding, AutoModelForCausalLM, TrainingArguments, Trainer, DataCollatorForLanguageModeling\n",
    "\n",
    "# hyperparams\n",
    "# checkpoint = \"EleutherAI/gpt-j-6B\"\n",
    "checkpoint = \"EleutherAI/gpt-neo-2.7B\"\n",
    "tokenizer = AutoTokenizer.from_pretrained(checkpoint)\n",
    "tokenizer.pad_token = tokenizer.eos_token\n",
    "\n",
    "# load model\n",
    "checkpoint_dir = f'./title-{checkpoint.replace(\"/\", \"__\")}/checkpoint-500'\n",
    "mod = AutoModelForCausalLM.from_pretrained(\n",
    "    # checkpoint,\n",
    "    checkpoint_dir,\n",
    "    # revision=\"float16\",\n",
    "    # torch_dtype=torch.float16,\n",
    "    # low_cpu_mem_usage=True\n",
    ")\n",
    "# mod = mod.half()"
   ]
  },
  {
   "cell_type": "code",
   "execution_count": null,
   "metadata": {},
   "outputs": [],
   "source": [
    "# decode some examples\n",
    "s = '2020:'\n",
    "eos_token_id = tokenizer('\\n')['input_ids'][0]\n",
    "inputs = tokenizer(s, return_tensors='pt')\n",
    "outputs = mod.generate(\n",
    "    **inputs,\n",
    "    do_sample=True,\n",
    "    eos_token_id=eos_token_id,\n",
    "    num_return_sequences=30,\n",
    ")\n",
    "tokenizer.batch_decode(outputs, skip_special_tokens=True)"
   ]
  },
  {
   "cell_type": "code",
   "execution_count": null,
   "metadata": {},
   "outputs": [],
   "source": []
  }
 ],
 "metadata": {
  "kernelspec": {
   "display_name": "Python 3.8.10 ('.autoprompt')",
   "language": "python",
   "name": "python3"
  },
  "language_info": {
   "codemirror_mode": {
    "name": "ipython",
    "version": 3
   },
   "file_extension": ".py",
   "mimetype": "text/x-python",
   "name": "python",
   "nbconvert_exporter": "python",
   "pygments_lexer": "ipython3",
   "version": "3.8.10"
  },
  "orig_nbformat": 4,
  "vscode": {
   "interpreter": {
    "hash": "d71ec94c00c8b9344a5c2d659d4374f2bc1ab97c860e619b1459df82f55983d1"
   }
  }
 },
 "nbformat": 4,
 "nbformat_minor": 2
}
