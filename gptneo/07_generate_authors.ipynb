{
 "cells": [
  {
   "cell_type": "code",
   "execution_count": 19,
   "metadata": {},
   "outputs": [],
   "source": [
    "from sklearn.datasets import fetch_20newsgroups\n",
    "import pandas as pd\n",
    "import openai\n",
    "import seaborn as sns\n",
    "import matplotlib.pyplot as plt\n",
    "import numpy as np\n",
    "from sklearn.model_selection import train_test_split\n",
    "import re\n",
    "import string\n",
    "from collections import defaultdict\n",
    "import itertools\n",
    "from typing import List\n",
    "from tqdm import tqdm\n",
    "import os.path\n",
    "from adjustText import adjust_text\n",
    "import data\n",
    "import pickle as pkl"
   ]
  },
  {
   "cell_type": "markdown",
   "metadata": {},
   "source": [
    "**Load and prepare data**"
   ]
  },
  {
   "cell_type": "code",
   "execution_count": 57,
   "metadata": {},
   "outputs": [
    {
     "name": "stderr",
     "output_type": "stream",
     "text": [
      "100%|██████████| 5/5 [00:04<00:00,  1.18it/s]\n"
     ]
    }
   ],
   "source": [
    "# authors sorted in descending order by num papers\n",
    "authors_dict_titles = pkl.load(open('../data/authors_dict_titles.pkl', 'rb'))\n",
    "prompt = 'Here is a list of related machine-learning papers:\\n\\n> '\n",
    "authors_save = {}\n",
    "authors = list(authors_dict_titles.keys())\n",
    "\n",
    "# restrict to authors that have atleast 3 papers\n",
    "authors = [a for a in authors if len(authors_dict_titles[a]) > 2]\n",
    "\n",
    "\n",
    "authors = authors[:5]\n",
    "gens_per_author = 5\n",
    "papers_in_context = 5\n",
    "for i, author in enumerate(tqdm(authors)):\n",
    "    if not author in authors_save:\n",
    "        query = prompt + '\\n> '.join(authors_dict_titles[author][-papers_in_context:]) + '\\n>'\n",
    "        completion = openai.Completion.create(\n",
    "            engine=\"text-davinci-002\", prompt=query,\n",
    "            n=gens_per_author, stop='>'\n",
    "        )\n",
    "        authors_save[author] = [completion.choices[i].text for i in range(len(completion.choices))]\n",
    "    if i % 100 == 3:\n",
    "        pkl.dump(authors_save, open(f'gen_titles/authors_save_{i}.pkl', 'wb'))\n",
    "pkl.dump(authors_save, open(f'gen_titles/authors_save_full.pkl', 'wb'))"
   ]
  },
  {
   "cell_type": "code",
   "execution_count": null,
   "metadata": {},
   "outputs": [],
   "source": []
  }
 ],
 "metadata": {
  "kernelspec": {
   "display_name": "Python 3.8.10 ('.autoprompt')",
   "language": "python",
   "name": "python3"
  },
  "language_info": {
   "codemirror_mode": {
    "name": "ipython",
    "version": 3
   },
   "file_extension": ".py",
   "mimetype": "text/x-python",
   "name": "python",
   "nbconvert_exporter": "python",
   "pygments_lexer": "ipython3",
   "version": "3.8.10"
  },
  "orig_nbformat": 4,
  "vscode": {
   "interpreter": {
    "hash": "d71ec94c00c8b9344a5c2d659d4374f2bc1ab97c860e619b1459df82f55983d1"
   }
  }
 },
 "nbformat": 4,
 "nbformat_minor": 2
}
