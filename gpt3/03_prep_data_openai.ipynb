{
 "cells": [
  {
   "cell_type": "code",
   "execution_count": 27,
   "metadata": {},
   "outputs": [],
   "source": [
    "from sklearn.datasets import fetch_20newsgroups\n",
    "import pandas as pd\n",
    "import openai\n",
    "import seaborn as sns\n",
    "import matplotlib.pyplot as plt\n",
    "import numpy as np\n",
    "from sklearn.model_selection import train_test_split"
   ]
  },
  {
   "cell_type": "code",
   "execution_count": 28,
   "metadata": {},
   "outputs": [],
   "source": [
    "dfs = {\n",
    "    k: pd.read_pickle(f'../data/df_{k}.pkl')\n",
    "    for k in ['train', 'test_recent', 'test_old']\n",
    "}"
   ]
  },
  {
   "cell_type": "code",
   "execution_count": 29,
   "metadata": {},
   "outputs": [],
   "source": [
    "d = pd.DataFrame()\n",
    "d['prompt'] = dfs['train']['year'].astype(str) + '\\n\\n' # No need to start with 'Published in '\n",
    "d['completion'] = ' ' + dfs['train']['title'].str.strip()"
   ]
  },
  {
   "cell_type": "code",
   "execution_count": 30,
   "metadata": {},
   "outputs": [
    {
     "data": {
      "text/html": [
       "<div>\n",
       "<style scoped>\n",
       "    .dataframe tbody tr th:only-of-type {\n",
       "        vertical-align: middle;\n",
       "    }\n",
       "\n",
       "    .dataframe tbody tr th {\n",
       "        vertical-align: top;\n",
       "    }\n",
       "\n",
       "    .dataframe thead th {\n",
       "        text-align: right;\n",
       "    }\n",
       "</style>\n",
       "<table border=\"1\" class=\"dataframe\">\n",
       "  <thead>\n",
       "    <tr style=\"text-align: right;\">\n",
       "      <th></th>\n",
       "      <th>prompt</th>\n",
       "      <th>completion</th>\n",
       "    </tr>\n",
       "  </thead>\n",
       "  <tbody>\n",
       "    <tr>\n",
       "      <th>828390</th>\n",
       "      <td>2017\\n\\n</td>\n",
       "      <td>Information Theoretic Optimal Learning of Gau...</td>\n",
       "    </tr>\n",
       "    <tr>\n",
       "      <th>1308516</th>\n",
       "      <td>2020\\n\\n</td>\n",
       "      <td>Bi-Level Graph Neural Networks for Drug-Drug ...</td>\n",
       "    </tr>\n",
       "    <tr>\n",
       "      <th>1240505</th>\n",
       "      <td>2020\\n\\n</td>\n",
       "      <td>RL-Duet: Online Music Accompaniment Generatio...</td>\n",
       "    </tr>\n",
       "    <tr>\n",
       "      <th>1071139</th>\n",
       "      <td>2019\\n\\n</td>\n",
       "      <td>Named Entity Recognition in Electronic Health...</td>\n",
       "    </tr>\n",
       "    <tr>\n",
       "      <th>1134931</th>\n",
       "      <td>2019\\n\\n</td>\n",
       "      <td>Automated Classification of Seizures against ...</td>\n",
       "    </tr>\n",
       "  </tbody>\n",
       "</table>\n",
       "</div>"
      ],
      "text/plain": [
       "           prompt                                         completion\n",
       "828390   2017\\n\\n   Information Theoretic Optimal Learning of Gau...\n",
       "1308516  2020\\n\\n   Bi-Level Graph Neural Networks for Drug-Drug ...\n",
       "1240505  2020\\n\\n   RL-Duet: Online Music Accompaniment Generatio...\n",
       "1071139  2019\\n\\n   Named Entity Recognition in Electronic Health...\n",
       "1134931  2019\\n\\n   Automated Classification of Seizures against ..."
      ]
     },
     "execution_count": 30,
     "metadata": {},
     "output_type": "execute_result"
    }
   ],
   "source": [
    "d.head()"
   ]
  },
  {
   "cell_type": "code",
   "execution_count": 31,
   "metadata": {},
   "outputs": [],
   "source": [
    "d.to_json(\"titles.jsonl\", orient='records', lines=True)"
   ]
  },
  {
   "cell_type": "markdown",
   "metadata": {},
   "source": [
    "### Data Preparation tool\n",
    "We can now use a data preparation tool which will suggest a few improvements to our dataset before fine-tuning. Before launching the tool we update the openai library to ensure we're using the latest data preparation tool. We additionally specify `-q` which auto-accepts all suggestions."
   ]
  },
  {
   "cell_type": "code",
   "execution_count": 33,
   "metadata": {},
   "outputs": [
    {
     "name": "stdout",
     "output_type": "stream",
     "text": [
      "Analyzing...\n",
      "\n",
      "- Your file contains 5466 prompt-completion pairs\n",
      "- There are 1 duplicated prompt-completion sets. These are rows: [4232]\n",
      "- All prompts end with suffix `\\n\\n`\n",
      "- Your data does not contain a common ending at the end of your completions. Having a common ending string appended to the end of the completion makes it clearer to the fine-tuned model where the completion should end. See https://beta.openai.com/docs/guides/fine-tuning/preparing-your-dataset for more detail and examples.\n",
      "\n",
      "Based on the analysis we will perform the following actions:\n",
      "- [Recommended] Remove 1 duplicate rows [Y/n]: Y\n",
      "- [Recommended] Add a suffix ending `\\n` to all completions [Y/n]: Y\n",
      "/home/chansingh/.autoprompt/lib/python3.8/site-packages/openai/validators.py:371: SettingWithCopyWarning: \n",
      "A value is trying to be set on a copy of a slice from a DataFrame.\n",
      "Try using .loc[row_indexer,col_indexer] = value instead\n",
      "\n",
      "See the caveats in the documentation: https://pandas.pydata.org/pandas-docs/stable/user_guide/indexing.html#returning-a-view-versus-a-copy\n",
      "  x[\"completion\"] += suffix\n",
      "\n",
      "\n",
      "Your data will be written to a new JSONL file. Proceed [Y/n]: Y\n",
      "\n",
      "Wrote modified file to `titles_prepared.jsonl`\n",
      "Feel free to take a look!\n",
      "\n",
      "Now use that file when fine-tuning:\n",
      "> openai api fine_tunes.create -t \"titles_prepared.jsonl\"\n",
      "\n",
      "After you’ve fine-tuned a model, remember that your prompt has to end with the indicator string `\\n\\n` for the model to start generating completions, rather than continuing with the prompt. Make sure to include `stop=[\"\\n\"]` so that the generated texts ends at the expected place.\n",
      "Once your model starts training, it'll approximately take 3.81 hours to train a `curie` model, and less for `ada` and `babbage`. Queue will approximately take half an hour per job ahead of you.\n"
     ]
    }
   ],
   "source": [
    "!openai tools fine_tunes.prepare_data -f titles.jsonl -q"
   ]
  },
  {
   "cell_type": "markdown",
   "metadata": {},
   "source": [
    "## Fine-tuning"
   ]
  },
  {
   "cell_type": "code",
   "execution_count": 9,
   "metadata": {},
   "outputs": [
    {
     "name": "stdout",
     "output_type": "stream",
     "text": [
      "Upload progress: 100%|████████████████████| 1.52M/1.52M [00:00<00:00, 1.81Mit/s]\n",
      "Uploaded file from sport2_prepared_train.jsonl: file-Dxx2xJqyjcwlhfDHpZdmCXlF\n",
      "Upload progress: 100%|███████████████████████| 388k/388k [00:00<00:00, 507kit/s]\n",
      "Uploaded file from sport2_prepared_valid.jsonl: file-Mvb8YAeLnGdneSAFcfiVcgcN\n",
      "Created fine-tune: ft-2zaA7qi0rxJduWQpdvOvmGn3\n",
      "Streaming events until fine-tuning is complete...\n",
      "\n",
      "(Ctrl-C will interrupt the stream, but not cancel the fine-tune)\n",
      "[2021-07-30 13:15:50] Created fine-tune: ft-2zaA7qi0rxJduWQpdvOvmGn3\n",
      "[2021-07-30 13:15:52] Fine-tune enqueued. Queue number: 0\n",
      "[2021-07-30 13:15:56] Fine-tune started\n",
      "[2021-07-30 13:18:55] Completed epoch 1/4\n",
      "[2021-07-30 13:20:47] Completed epoch 2/4\n",
      "[2021-07-30 13:22:40] Completed epoch 3/4\n",
      "[2021-07-30 13:24:31] Completed epoch 4/4\n",
      "[2021-07-30 13:26:22] Uploaded model: ada:ft-openai-2021-07-30-12-26-20\n",
      "[2021-07-30 13:26:27] Uploaded result file: file-6Ki9RqLQwkChGsr9CHcr1ncg\n",
      "[2021-07-30 13:26:28] Fine-tune succeeded\n",
      "\n",
      "Job complete! Status: succeeded 🎉\n",
      "Try out your fine-tuned model:\n",
      "\n",
      "openai api completions.create -m ada:ft-openai-2021-07-30-12-26-20 -p <YOUR_PROMPT>\n"
     ]
    }
   ],
   "source": [
    "!openai api fine_tunes.create -t \"titles_prepared.jsonl\"  -m curie --n_epochs 1"
   ]
  },
  {
   "cell_type": "markdown",
   "metadata": {},
   "source": [
    "The model is successfully trained in about ten minutes. We can see the model name is `ada:ft-openai-2021-07-30-12-26-20`, which we can use for doing inference."
   ]
  }
 ],
 "metadata": {
  "kernelspec": {
   "display_name": "Python 3.8.10 ('.autoprompt')",
   "language": "python",
   "name": "python3"
  },
  "language_info": {
   "codemirror_mode": {
    "name": "ipython",
    "version": 3
   },
   "file_extension": ".py",
   "mimetype": "text/x-python",
   "name": "python",
   "nbconvert_exporter": "python",
   "pygments_lexer": "ipython3",
   "version": "3.8.10"
  },
  "orig_nbformat": 4,
  "vscode": {
   "interpreter": {
    "hash": "d71ec94c00c8b9344a5c2d659d4374f2bc1ab97c860e619b1459df82f55983d1"
   }
  }
 },
 "nbformat": 4,
 "nbformat_minor": 2
}
