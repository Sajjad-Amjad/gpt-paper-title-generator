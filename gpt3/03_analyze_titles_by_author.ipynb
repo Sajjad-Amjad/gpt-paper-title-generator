{
 "cells": [
  {
   "cell_type": "code",
   "execution_count": 2,
   "metadata": {},
   "outputs": [],
   "source": [
    "from sklearn.datasets import fetch_20newsgroups\n",
    "import pandas as pd\n",
    "import openai\n",
    "import seaborn as sns\n",
    "import matplotlib.pyplot as plt\n",
    "import numpy as np\n",
    "from sklearn.model_selection import train_test_split\n",
    "import re\n",
    "import string\n",
    "from collections import defaultdict\n",
    "import itertools\n",
    "from typing import List\n",
    "from tqdm import tqdm\n",
    "import os.path\n",
    "from adjustText import adjust_text\n",
    "import pickle as pkl\n",
    "import json"
   ]
  },
  {
   "cell_type": "code",
   "execution_count": 3,
   "metadata": {},
   "outputs": [],
   "source": [
    "authors_save = pkl.load(open('../samples/gpt3/authors_save_full.pkl', 'rb'))"
   ]
  },
  {
   "cell_type": "code",
   "execution_count": 4,
   "metadata": {},
   "outputs": [
    {
     "data": {
      "text/plain": [
       "41629"
      ]
     },
     "execution_count": 4,
     "metadata": {},
     "output_type": "execute_result"
    }
   ],
   "source": [
    "len(authors_save)"
   ]
  },
  {
   "cell_type": "code",
   "execution_count": 8,
   "metadata": {},
   "outputs": [],
   "source": [
    "authors_save_processed = {\n",
    "    a: [v.strip() for v in authors_save[a]]\n",
    "    for a in authors_save\n",
    "}"
   ]
  },
  {
   "cell_type": "code",
   "execution_count": null,
   "metadata": {},
   "outputs": [],
   "source": [
    "json.dump(authors_save_processed, open('../samples/gpt3/authors_save_full.json', 'w'))"
   ]
  },
  {
   "cell_type": "code",
   "execution_count": 20,
   "metadata": {},
   "outputs": [
    {
     "name": "stdout",
     "output_type": "stream",
     "text": [
      "demis hassabis\n",
      "\t How transferable are features in deep neural networks?\n",
      "\t User modelling in dialog systems: A survey\n",
      "\t Learning to play Go from scratch by self-play reinforcement learning\n",
      "\t Multiagent collaboration understaing with inverse reinforcement learning\n",
      "\t Achieving deep and structured representation learning in online problems\n",
      "yoshua bengio\n",
      "\t Semi-Supervised Reinforcement Learning with Deep Representation Learning\n",
      "\t Centralized training of deep neural networks with low communication overhead\n",
      "\t Context-aware politeness: A learning-based approach\n",
      "\t Neural Variational Inference and Learning in Boltzmann Machines\n",
      "\t Watch Your Step: Guarding Model-Based Reinforcement Learning from Step-wise\n",
      "chelsea finn\n",
      "\t Neural-Symbolic Virtual Machines\n",
      "\t Scalable Inverse Reinforcement Learning for Street Networks\n",
      "\t Neural Program Repair\n",
      "\t Neural Module Networks\n",
      "\t Neural Networks for Pattern Recognition\n",
      "joshua tenenbaum\n",
      "\t Neural Symbolic VLIW Architectures for Programmable Inference\n",
      "\t Understanding Overfitting in Deep Learning\n",
      "\t Deep Learning for Physical Processes: Integrating Physics and Data-Driven Methods\n",
      "\t Deep Generative Models for Physical Scene Understanding\n",
      "\t Joint Optimization of Multiple Objectives withpolicy gradient Methods\n",
      "jianfeng gao\n",
      "\t Pre-trained Transformer Models for Language Understanding\n",
      "\t A Neural Retriever for Context-Dependent Semantic Completion\n",
      "\t Retrofitting Distributed Representations for Zero-Shot Cross-lingual Entity Link\n",
      "\t Achieving Zero Shot Learning via Pre-trained Language Models\n",
      "\t Modeling Adjacencies for Efficient Contextual Representation Learning\n"
     ]
    }
   ],
   "source": [
    "authors = ['demis hassabis', 'yoshua bengio', 'chelsea finn', 'joshua tenenbaum', 'jianfeng gao']\n",
    "for author in authors:\n",
    "    print(author)\n",
    "    titles = authors_save_processed[author]\n",
    "\n",
    "    for title in titles:\n",
    "        print('\\t', title)"
   ]
  },
  {
   "cell_type": "code",
   "execution_count": null,
   "metadata": {},
   "outputs": [],
   "source": []
  }
 ],
 "metadata": {
  "kernelspec": {
   "display_name": "Python 3.8.10 ('.autoprompt')",
   "language": "python",
   "name": "python3"
  },
  "language_info": {
   "codemirror_mode": {
    "name": "ipython",
    "version": 3
   },
   "file_extension": ".py",
   "mimetype": "text/x-python",
   "name": "python",
   "nbconvert_exporter": "python",
   "pygments_lexer": "ipython3",
   "version": "3.8.10"
  },
  "orig_nbformat": 4,
  "vscode": {
   "interpreter": {
    "hash": "d71ec94c00c8b9344a5c2d659d4374f2bc1ab97c860e619b1459df82f55983d1"
   }
  }
 },
 "nbformat": 4,
 "nbformat_minor": 2
}
