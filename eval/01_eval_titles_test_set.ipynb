{
 "cells": [
  {
   "cell_type": "code",
   "execution_count": 20,
   "metadata": {},
   "outputs": [],
   "source": [
    "import pandas as pd\n",
    "import numpy as np\n",
    "import re\n",
    "import string\n",
    "import itertools\n",
    "import os.path\n",
    "import pickle as pkl\n",
    "import json\n",
    "import matplotlib.pyplot as plt"
   ]
  },
  {
   "cell_type": "markdown",
   "metadata": {},
   "source": [
    "# Load titles"
   ]
  },
  {
   "cell_type": "code",
   "execution_count": 30,
   "metadata": {},
   "outputs": [
    {
     "name": "stderr",
     "output_type": "stream",
     "text": [
      "/var/folders/01/fl5q4n5547v1g4z0hw_v_mrc0000gn/T/ipykernel_60679/2762455453.py:1: ParserWarning: Falling back to the 'python' engine because the 'c' engine does not support regex separators (separators > 1 char and different from '\\s+' are interpreted as regex); you can avoid this warning by specifying engine='python'.\n",
      "  titles_df = pd.read_csv('../samples/gptneo/2021/titles.txt', sep='\\n\\n', header=None)\n"
     ]
    }
   ],
   "source": [
    "titles_df = pd.read_csv('../samples/gptneo/2021/titles.txt', sep='\\n\\n', header=None)\n",
    "titles_gen = titles_df[0].str.strip('\\\"\\' ')\n",
    "titles_len = titles_df[0].str.split().apply(len)"
   ]
  },
  {
   "cell_type": "code",
   "execution_count": null,
   "metadata": {},
   "outputs": [],
   "source": [
    "# plt.hist(titles_len)\n",
    "# plt.xlabel('Title num words')\n",
    "# plt.ylabel('Count')\n",
    "# plt.show()"
   ]
  },
  {
   "cell_type": "code",
   "execution_count": 32,
   "metadata": {},
   "outputs": [],
   "source": [
    "titles_new_df = pd.read_pickle('../data/df_test_recent.pkl')"
   ]
  },
  {
   "cell_type": "code",
   "execution_count": 33,
   "metadata": {},
   "outputs": [],
   "source": [
    "titles_new = titles_new_df.title"
   ]
  },
  {
   "cell_type": "markdown",
   "metadata": {},
   "source": [
    "# Look for exact matches\n",
    "For this to be kosher, need to make sure the model never saw any titles within the dates of the test set."
   ]
  },
  {
   "cell_type": "code",
   "execution_count": 38,
   "metadata": {},
   "outputs": [],
   "source": [
    "titles_overlap = []\n",
    "tg = titles_gen.str.lower().str.strip().values\n",
    "tn = titles_new.str.lower().str.strip().values\n",
    "for title_gen in tg:\n",
    "    if title_gen in tn:\n",
    "        print(title_gen)"
   ]
  },
  {
   "cell_type": "markdown",
   "metadata": {},
   "source": [
    "Look for closest matches"
   ]
  },
  {
   "cell_type": "code",
   "execution_count": 39,
   "metadata": {},
   "outputs": [
    {
     "ename": "ModuleNotFoundError",
     "evalue": "No module named 'nltk'",
     "output_type": "error",
     "traceback": [
      "\u001b[0;31m---------------------------------------------------------------------------\u001b[0m",
      "\u001b[0;31mModuleNotFoundError\u001b[0m                       Traceback (most recent call last)",
      "\u001b[1;32m/Users/chandan/rules/gpt-paper-title-generator/eval/01_eval_titles_test_set.ipynb Cell 10\u001b[0m in \u001b[0;36m<cell line: 3>\u001b[0;34m()\u001b[0m\n\u001b[1;32m      <a href='vscode-notebook-cell:/Users/chandan/rules/gpt-paper-title-generator/eval/01_eval_titles_test_set.ipynb#X35sZmlsZQ%3D%3D?line=0'>1</a>\u001b[0m \u001b[39m# BLEU code\u001b[39;00m\n\u001b[0;32m----> <a href='vscode-notebook-cell:/Users/chandan/rules/gpt-paper-title-generator/eval/01_eval_titles_test_set.ipynb#X35sZmlsZQ%3D%3D?line=2'>3</a>\u001b[0m \u001b[39mimport\u001b[39;00m \u001b[39mnltk\u001b[39;00m\n\u001b[1;32m      <a href='vscode-notebook-cell:/Users/chandan/rules/gpt-paper-title-generator/eval/01_eval_titles_test_set.ipynb#X35sZmlsZQ%3D%3D?line=3'>4</a>\u001b[0m \u001b[39mimport\u001b[39;00m \u001b[39mnltk\u001b[39;00m\u001b[39m.\u001b[39;00m\u001b[39mtranslate\u001b[39;00m\u001b[39m.\u001b[39;00m\u001b[39mbleu_score\u001b[39;00m \u001b[39mas\u001b[39;00m \u001b[39mbleu\u001b[39;00m\n\u001b[1;32m      <a href='vscode-notebook-cell:/Users/chandan/rules/gpt-paper-title-generator/eval/01_eval_titles_test_set.ipynb#X35sZmlsZQ%3D%3D?line=5'>6</a>\u001b[0m \u001b[39mimport\u001b[39;00m \u001b[39mmath\u001b[39;00m\n",
      "\u001b[0;31mModuleNotFoundError\u001b[0m: No module named 'nltk'"
     ]
    }
   ],
   "source": [
    "# BLEU code\n",
    "\n",
    "import nltk\n",
    "import nltk.translate.bleu_score as bleu\n",
    "\n",
    "import math\n",
    "import numpy\n",
    "import os\n",
    "\n",
    "try:\n",
    "  nltk.data.find('tokenizers/punkt')\n",
    "except LookupError:\n",
    "  nltk.download('punkt')\n",
    "\n",
    "def title_bleu(tA, tB):\n",
    "  return bleu.sentence_bleu([tA.lower().split()], tB.lower().split())\n",
    "\n",
    "title_bleu(\n",
    "    'Neuromorphic transformer diffusion kernel models for the creation of buzzwords',\n",
    "    'Existential neuromorphic transformer graph models for the creation of buzzwords'\n",
    "    )\n",
    "\n",
    "# 0.5814307369682193"
   ]
  }
 ],
 "metadata": {
  "kernelspec": {
   "display_name": "Python 3.9.13 64-bit",
   "language": "python",
   "name": "python3"
  },
  "language_info": {
   "codemirror_mode": {
    "name": "ipython",
    "version": 3
   },
   "file_extension": ".py",
   "mimetype": "text/x-python",
   "name": "python",
   "nbconvert_exporter": "python",
   "pygments_lexer": "ipython3",
   "version": "3.9.13"
  },
  "orig_nbformat": 4,
  "vscode": {
   "interpreter": {
    "hash": "aee8b7b246df8f9039afb4144a1f6fd8d2ca17a180786b69acc140d282b71a49"
   }
  }
 },
 "nbformat": 4,
 "nbformat_minor": 2
}
