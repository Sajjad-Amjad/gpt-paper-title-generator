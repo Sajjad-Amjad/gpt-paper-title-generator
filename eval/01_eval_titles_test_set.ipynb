{
 "cells": [
  {
   "cell_type": "code",
   "execution_count": 13,
   "metadata": {},
   "outputs": [],
   "source": [
    "import pandas as pd\n",
    "import numpy as np\n",
    "import re\n",
    "import string\n",
    "import itertools\n",
    "import os.path\n",
    "import pickle as pkl\n",
    "import json\n",
    "from eval import title_bleu\n",
    "from tqdm import tqdm\n",
    "import matplotlib.pyplot as plt"
   ]
  },
  {
   "cell_type": "markdown",
   "metadata": {},
   "source": [
    "# Load titles"
   ]
  },
  {
   "cell_type": "code",
   "execution_count": 3,
   "metadata": {},
   "outputs": [
    {
     "name": "stderr",
     "output_type": "stream",
     "text": [
      "/tmp/ipykernel_907318/644442385.py:1: ParserWarning: Falling back to the 'python' engine because the 'c' engine does not support regex separators (separators > 1 char and different from '\\s+' are interpreted as regex); you can avoid this warning by specifying engine='python'.\n",
      "  titles_df = pd.read_csv('../samples/gptneo/2021/titles.txt', sep='\\n\\n', header=None)\n"
     ]
    }
   ],
   "source": [
    "titles_df = pd.read_csv('../samples/gptneo/2021/titles.txt', sep='\\n\\n', header=None)\n",
    "titles_gen = titles_df[0].str.strip('\\\"\\' ')\n",
    "titles_len = titles_df[0].str.split().apply(len)\n",
    "\n",
    "titles_new_df = pd.read_pickle('../data/df_test_recent.pkl')\n",
    "titles_new = titles_new_df.title"
   ]
  },
  {
   "cell_type": "code",
   "execution_count": null,
   "metadata": {},
   "outputs": [],
   "source": [
    "# plt.hist(titles_len)\n",
    "# plt.xlabel('Title num words')\n",
    "# plt.ylabel('Count')\n",
    "# plt.show()"
   ]
  },
  {
   "cell_type": "markdown",
   "metadata": {},
   "source": [
    "# Look for exact matches\n",
    "For this to be kosher, need to make sure the model never saw any titles within the dates of the test set."
   ]
  },
  {
   "cell_type": "code",
   "execution_count": 9,
   "metadata": {},
   "outputs": [
    {
     "name": "stdout",
     "output_type": "stream",
     "text": [
      "# generated titles 40 # GT titles 14895\n"
     ]
    }
   ],
   "source": [
    "titles_overlap = []\n",
    "tg = titles_gen.str.lower().str.strip().values\n",
    "tn = titles_new.str.lower().str.strip().values\n",
    "print('# generated titles', tg.size, '# GT titles', tn.size)"
   ]
  },
  {
   "cell_type": "code",
   "execution_count": 11,
   "metadata": {},
   "outputs": [
    {
     "name": "stdout",
     "output_type": "stream",
     "text": [
      "# overlaps 0\n"
     ]
    }
   ],
   "source": [
    "# exact matches\n",
    "for title_gen in tg:\n",
    "    if title_gen in tn:\n",
    "        print(title_gen)\n",
    "print('# overlaps', len(titles_overlap))"
   ]
  },
  {
   "cell_type": "markdown",
   "metadata": {},
   "source": [
    "Look for closest matches"
   ]
  },
  {
   "cell_type": "code",
   "execution_count": null,
   "metadata": {},
   "outputs": [],
   "source": [
    "bleus = np.zeros((tg.size, tn.size))\n",
    "for r, title_gen in enumerate(tqdm(tg)):\n",
    "    for c, title_new in enumerate(tn):\n",
    "        bleus[r, c] = title_bleu(title_gen, title_new)"
   ]
  },
  {
   "cell_type": "code",
   "execution_count": 63,
   "metadata": {},
   "outputs": [
    {
     "name": "stdout",
     "output_type": "stream",
     "text": [
      "0\n",
      "\t efficient exploration of deep reinforcement learning policies\n",
      "\t attacking and defending deep reinforcement learning policies\n",
      "\t 0.41113361690051975\n",
      "1\n",
      "\t a distributed neural network for medical image segmentation\n",
      "\t distributed contrastive learning for medical image segmentation\n",
      "\t 0.3768499164492419\n",
      "2\n",
      "\t multi-domain learning for improving the performance and scalability of transfer learning\n",
      "\t study of the performance and scalability of federated learning for medical imaging with intermittent clients\n",
      "\t 0.2829559628326351\n",
      "3\n",
      "\t a distributed machine learning pipeline for machine learning in iot\n",
      "\t continuous design control for machine learning in certified medical systems\n",
      "\t 0.2626909894424158\n",
      "4\n",
      "\t dynamic temporal-difference recurrent neural networks for motion-adaptive driving: a benchmark\n",
      "\t multi-objective physics-guided recurrent neural networks for identifying non-autonomous dynamical systems\n",
      "\t 0.2626909894424158\n",
      "5\n",
      "\t a new benchmark for evaluating neural networks' fairness, precision, and explainability\n",
      "\t stepgame: a new benchmark for robust multi-hop spatial reasoning in texts\n",
      "\t 0.23462350320528\n",
      "6\n",
      "\t neural network architectures for high-dimensional classification: a case study on chest x-ray image\n",
      "\t calibrated bagging deep learning for image semantic segmentation: a case study on covid-19 chest x-ray image\n",
      "\t 0.22894156860669912\n",
      "7\n",
      "\t modeling the impact of context-aware training on spatiotemporal gan\n",
      "\t high-resolution satellite imagery for modeling the impact of aridification on crop production\n",
      "\t 0.22416933501922293\n",
      "8\n",
      "\t automatic analysis of a massive data and its application in the internet of machine learning\n",
      "\t on the problem of entity matching and its application in automated settlement of receivables\n",
      "\t 0.19038378572213252\n",
      "9\n",
      "\t learning to rank as social science: a review of the social and empirical literature on searching and ranking\n",
      "\t a review of the convergence of 5g/6g architecture and deep learning\n",
      "\t 0.1374121434322605\n",
      "10\n",
      "\t scalable learning to representation for distributed learning\n",
      "\t robust and efficient aggregation for distributed learning\n",
      "\t 5.021333847570327e-78\n",
      "11\n",
      "\t the role of context in understanding language and information\n",
      "\t on the role of bidirectionality in language model pre-training\n",
      "\t 4.583829695130767e-78\n",
      "12\n",
      "\t fuzzing language via deep learning for autonomous vehicle development\n",
      "\t vision-based american sign language classification approach via deep learning\n",
      "\t 4.335118471269586e-78\n",
      "13\n",
      "\t multi-task learning via sparse sampling: applying differentiable multi-agent reinforcement learning\n",
      "\t provably efficient offline multi-agent reinforcement learning via strategy-wise bonus\n",
      "\t 4.29307862935549e-78\n",
      "14\n",
      "\t scalable graph convolutional network with local structure and generalization\n",
      "\t hyperspectral image classification with contrastive graph convolutional network\n",
      "\t 4.2338646970116024e-78\n",
      "15\n",
      "\t anomaly detection for unreliable internet traffic using machine learning\n",
      "\t using machine learning for particle identification in alice\n",
      "\t 4.2338646970116024e-78\n",
      "16\n",
      "\t improving model robustness through deep learning for online vehicle maintenance\n",
      "\t deepvarwt: deep learning for a var model with trend\n",
      "\t 3.8792344511402313e-78\n",
      "17\n",
      "\t self-attention for multi-task learning of graph embeddings for structural prediction\n",
      "\t repurposing knowledge graph embeddings for triple representation via weak supervision\n",
      "\t 3.690122608639576e-78\n",
      "18\n",
      "\t an automated seismic data-assimilation system with improved offline quality control\n",
      "\t abnormal-aware multi-person evaluation system with improved fuzzy weighting\n",
      "\t 3.477086386303713e-78\n",
      "19\n",
      "\t machine learning and data-driven engineering for sustainable urban mobility: a perspective report\n",
      "\t machine learning and deep learning -- a review for ecologists\n",
      "\t 3.432765109268027e-78\n",
      "20\n",
      "\t exploring high-dimensional regression for low-rank matrix factorization\n",
      "\t escaping spurious local minima of low-rank matrix factorization through convex lifting\n",
      "\t 3.4077295621678842e-78\n",
      "21\n",
      "\t self-training transformer for large-batch language generation and question answering\n",
      "\t meker: memory efficient knowledge embedding representation for link prediction and question answering\n",
      "\t 3.4077295621678842e-78\n",
      "22\n",
      "\t improving deep learning by training to learn\n",
      "\t improving deep learning model robustness against adversarial attack by increasing the network capacity\n",
      "\t 3.191385619211647e-78\n",
      "23\n",
      "\t modeling time series with multiple time-scale representations: a multi-dimensional modeling algorithm\n",
      "\t dimension reduction for time series with variational autoencoders\n",
      "\t 3.0685179659320907e-78\n",
      "24\n",
      "\t inferring multiple event types from fewer sources: causal inference with a fewer observations\n",
      "\t causal inference with treatment measurement error: a nonparametric instrumental variable approach\n",
      "\t 3.053072889829793e-78\n",
      "25\n",
      "\t robustness analysis in real-world scenarios with a multi-agent framework\n",
      "\t a multi-agent framework for the asynchronous and collaborative extension of multitask ml systems\n",
      "\t 2.9699189645069595e-78\n",
      "26\n",
      "\t learning to see: disentangled vision and image segmentation with domain-guided domain attribute learning\n",
      "\t mine your own anatomy: revisiting medical image segmentation with extremely limited labels\n",
      "\t 2.9176905638139443e-78\n",
      "27\n",
      "\t learning data-efficient and privacy-preserving recommendations with deep graph-based neural network\n",
      "\t space-based gravitational wave signal detection and extraction with deep neural network\n",
      "\t 8.190757052088229e-155\n",
      "28\n",
      "\t multi-task regression network for high-performance speaker recognition\n",
      "\t contrastive siamese network for semi-supervised speech recognition\n",
      "\t 7.711523862191631e-155\n",
      "29\n",
      "\t neural language understanding with learned word-level representations\n",
      "\t photorealistic text-to-image diffusion models with deep language understanding\n",
      "\t 7.176381577237209e-155\n",
      "30\n",
      "\t deepsurd: towards automatic dose estimation in densely trained training\n",
      "\t towards automatic forecasting: evaluation of time-series forecasting models for chickenpox cases estimation in hungary\n",
      "\t 6.830096904817037e-155\n",
      "31\n",
      "\t adversarial reasoning: when does knowledge transfer really transfer?\n",
      "\t when does bias transfer in transfer learning?\n",
      "\t 6.684949609530091e-155\n",
      "32\n",
      "\t probabilistic data modeling as an empirical bayes alternative\n",
      "\t sam as an optimal relaxation of bayes\n",
      "\t 6.684949609530091e-155\n",
      "33\n",
      "\t diverse submodularity for the completion problem for random binary networks\n",
      "\t rethinking graph neural networks for the graph coloring problem\n",
      "\t 6.480360213743594e-155\n",
      "34\n",
      "\t a scalable multihead attention network to predict image transformer\n",
      "\t fuzzy attention neural network to tackle discontinuity in airway segmentation\n",
      "\t 6.373704167435469e-155\n",
      "35\n",
      "\t leveraging human and machine-level domain knowledge for cross-domain deep text embedding\n",
      "\t causal discovery and causal learning for fire resistance evaluation: incorporating domain knowledge\n",
      "\t 6.223629500679345e-155\n",
      "36\n",
      "\t tensorflow-lite: transforming code generation into learned code for code-efficient machine learning\n",
      "\t exploration of machine learning classification models used for behavioral biometrics authentication\n",
      "\t 6.061838450024688e-155\n",
      "37\n",
      "\t a machine, a method and a message all can be equally effective? testing the message-passing algorithm with binary classification\n",
      "\t risk-based regulation for all: the need and a method for a wide adoption solution for data-driven inspection targeting\n",
      "\t 5.999490747143832e-155\n",
      "38\n",
      "\t robustness against random attacks against high-speed single-link channel spacing modulation (hs-scmm)\n",
      "\t certified robustness against natural language attacks by causal intervention\n",
      "\t 5.396466934950335e-155\n",
      "39\n",
      "\t robotic robotic networked robots for robot-augmented teleoperation\n",
      "\t near-optimal distributed linear-quadratic regulator for networked systems\n",
      "\t 1.331960397810445e-231\n"
     ]
    }
   ],
   "source": [
    "# find top matches\n",
    "matches = np.argmax(bleus, axis=1)\n",
    "bleu_matches = bleus[np.arange(bleus.shape[0]), matches]\n",
    "args = np.argsort(bleu_matches)[::-1]\n",
    "\n",
    "N = 50\n",
    "for i in range(N):\n",
    "    print(i)\n",
    "    print('\\t', tg[args[i]])\n",
    "    print('\\t', tn[matches[args[i]]])\n",
    "    print('\\t', bleu_matches[args[i]])"
   ]
  },
  {
   "cell_type": "code",
   "execution_count": 30,
   "metadata": {},
   "outputs": [
    {
     "data": {
      "text/plain": [
       "(40, 14895)"
      ]
     },
     "execution_count": 30,
     "metadata": {},
     "output_type": "execute_result"
    }
   ],
   "source": [
    "bleus.shape"
   ]
  },
  {
   "cell_type": "code",
   "execution_count": 31,
   "metadata": {},
   "outputs": [
    {
     "data": {
      "text/plain": [
       "[<matplotlib.lines.Line2D at 0x7fefef5e71f0>]"
      ]
     },
     "execution_count": 31,
     "metadata": {},
     "output_type": "execute_result"
    },
    {
     "data": {
      "image/png": "[encoded data removed]",
      "text/plain": [
       "<Figure size 640x480 with 1 Axes>"
      ]
     },
     "metadata": {},
     "output_type": "display_data"
    }
   ],
   "source": [
    "plt.plot(bleus[0])"
   ]
  },
  {
   "cell_type": "code",
   "execution_count": null,
   "metadata": {},
   "outputs": [],
   "source": []
  }
 ],
 "metadata": {
  "kernelspec": {
   "display_name": "Python 3.8.10 ('.autoprompt')",
   "language": "python",
   "name": "python3"
  },
  "language_info": {
   "codemirror_mode": {
    "name": "ipython",
    "version": 3
   },
   "file_extension": ".py",
   "mimetype": "text/x-python",
   "name": "python",
   "nbconvert_exporter": "python",
   "pygments_lexer": "ipython3",
   "version": "3.8.10"
  },
  "orig_nbformat": 4,
  "vscode": {
   "interpreter": {
    "hash": "d71ec94c00c8b9344a5c2d659d4374f2bc1ab97c860e619b1459df82f55983d1"
   }
  }
 },
 "nbformat": 4,
 "nbformat_minor": 2
}
