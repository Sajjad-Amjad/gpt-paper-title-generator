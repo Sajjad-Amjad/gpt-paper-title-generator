{
 "cells": [
  {
   "cell_type": "markdown",
   "metadata": {},
   "source": [
    "# scrape arxiv and save to csv"
   ]
  },
  {
   "cell_type": "code",
   "execution_count": null,
   "metadata": {},
   "outputs": [],
   "source": [
    "import arxivscraper as ax\n",
    "import numpy as np\n",
    "\n",
    "scraper = ax.Scraper(category='stat', date_from='2017-08-01',\n",
    "                     date_until='2019-07-01', t=10, \n",
    "                     filters={'categories':['stat.ml'],'abstract':['learning']})\n",
    "output = scraper.scrape()\n",
    "\n",
    "\n",
    "# cols = ('id', 'title', 'categories', 'abstract', 'doi', 'created', 'updated', 'authors')\n",
    "titles = [' '.join(o['title'].split()) for o in output]\n",
    "\n",
    "np.savetxt('titles.csv', np.array(titles), fmt='%s')"
   ]
  },
  {
   "cell_type": "markdown",
   "metadata": {},
   "source": [
    "# finetune gpt2"
   ]
  },
  {
   "cell_type": "code",
   "execution_count": null,
   "metadata": {},
   "outputs": [],
   "source": [
    "import gpt_2_simple as gpt2\n",
    "\n",
    "model_name = \"117M\"\n",
    "gpt2.download_gpt2(model_name=model_name)   # model is saved into current directory under /models/117M/\n",
    "\n",
    "sess = gpt2.start_tf_sess()\n",
    "gpt2.finetune(sess,\n",
    "              'titles.csv',\n",
    "              model_name=model_name,\n",
    "              steps=1000,\n",
    "              save_every=200)   # steps is max number of training steps\n",
    "\n",
    "gpt2.generate(sess)"
   ]
  },
  {
   "cell_type": "markdown",
   "metadata": {},
   "source": [
    "# look at some samples"
   ]
  },
  {
   "cell_type": "code",
   "execution_count": 10,
   "metadata": {},
   "outputs": [
    {
     "name": "stdout",
     "output_type": "stream",
     "text": [
      "- A Machine Learning Framework For Computer Vision\n",
      "- A Semi-Supervised Csi-On-Icb Test For Differential Privacy\n",
      "- Neural Control Variates For Efficient Inference And Meaningful Decision Making\n",
      "- Unlearn What You Have Learned: Recurrent Neural Networks For Pre-Processing Speech Using Sparsified Emotional Speech\n",
      "- Learning Representations For Long Short-Term Memory Linked Index Circuits\n",
      "- Stochastic Gradient Mcmc For Compressing Neural Network Training For Training Fine-Grained Relationships\n",
      "- Bayesian Inference And Wavelet Decomposition Of Iterative Random Code\n",
      "- Robust And Parallel K-Svm Through Sparsely Correlated Matrix Decomposition\n",
      "- Towards A Practical $K$-Dimensional Deep Neural Network Model Parameterization Theory Emphasizing Sequence Interaction\n",
      "- Deep Signal Recovery With Dual Momentum: A Complexity And Stability Analysis Based Analysis\n",
      "- Fault Diagnosis Using Deep Signal Recovery\n",
      "- Sparse Least Squares Regression: Robust Regularization And Recommendations For Improved Statistical Validation\n",
      "- Stacking With A Neural Network For Sequential Intent Classification\n",
      "- Deep Residual Auto-Encoders For Multi-Label Image Classification\n",
      "- Sparse Least Squares Regression For Robust And Adaptive Classification\n",
      "- Anatomical Coronary Stearage Reconstruction Using Deep 3D Convolutional Neural Networks\n",
      "- Deep Neural Processes\n",
      "- Gated-Cgroup Communications Solution For Ciliary Dysfunction Detection Using Hierarchical Directed Acyclic Graph Convolutional Network\n",
      "- Understanding Batch Normalization\n",
      "- Improving Gan Performance With Stochastic Gradients And More Via Optimized Alternative Estimation\n",
      "- Graphoisheter Encephalization Encephalization\n",
      "- Improving Gans Using Covariate Shift And Multivariate Spatial Embeddings\n",
      "- Dynamic Event Graph Convolutional Networks For Adverse Event Forecasting\n",
      "- Fast Asynchronous Parallel Training Of Deep Networks\n",
      "- On The Non-Parametric Power Of Logistic Regression For Smooth Events\n",
      "- Unifying Pac And Learning Mdps Using Influence Functions\n",
      "- Machine Learning To Plan And Downlink Using Intrinsic Motivation\n",
      "- Classifier Readiness Testing For Imbalanced Data\n",
      "- Fast And Scalable Bayesian Deep Learning With Limited Observations\n",
      "- A Comparison Of Deep Neural Networks And Adaptive Graph Neural Networks For Anomaly Detection\n",
      "- Distributed Deep Learning With Gossip Networks Using Bidirectional Lstm Sensors\n",
      "- Revisiting Reuse Of Super Categories\n",
      "- Anatomical Visual Exploration\n",
      "- Multimodal Social Learning With Active Interest Discovery\n",
      "- Stochastic Variance-Reduced Cubic Regularization For Approximate Inference\n",
      "- Predicting County Level Corn Yields Based On Time Series Data\n",
      "- A Deep Residual Network Approach For Predicting County Level Eegs Using Sparse And Incomplete Data\n"
     ]
    }
   ],
   "source": [
    "sample_file = 'samples/samples-901'\n",
    "t = open(sample_file, 'r').read()\n",
    "\n",
    "for s in ['endoftext', 'startoftext', '<|', '|>']:\n",
    "    t = t.replace(s, '')\n",
    "for title in t.title().split('\\n')[1:]:\n",
    "    if not title == '':\n",
    "        print('- ' + title)"
   ]
  },
  {
   "cell_type": "markdown",
   "metadata": {},
   "source": [
    "# new sample"
   ]
  },
  {
   "cell_type": "code",
   "execution_count": 1,
   "metadata": {},
   "outputs": [
    {
     "name": "stderr",
     "output_type": "stream",
     "text": [
      "WARNING: Logging before flag parsing goes to stderr.\n",
      "W0801 04:51:30.227832 140240784951104 deprecation.py:323] From /system/linux/anaconda3.7/lib/python3.7/site-packages/tensorflow/python/training/saver.py:1276: checkpoint_exists (from tensorflow.python.training.checkpoint_management) is deprecated and will be removed in a future version.\n",
      "Instructions for updating:\n",
      "Use standard file APIs to check for files with this prefix.\n"
     ]
    },
    {
     "name": "stdout",
     "output_type": "stream",
     "text": [
      "Loading checkpoint checkpoint/run1/model-1000\n"
     ]
    }
   ],
   "source": [
    "import gpt_2_simple as gpt2\n",
    "sess = gpt2.start_tf_sess()\n",
    "gpt2.load_gpt2(sess)"
   ]
  },
  {
   "cell_type": "code",
   "execution_count": 23,
   "metadata": {},
   "outputs": [
    {
     "name": "stdout",
     "output_type": "stream",
     "text": [
      "Neural Source Separation Via Non-Negative Eigenvector Field Variate Operator\n"
     ]
    }
   ],
   "source": [
    "prefix = 'neural' # None is default\n",
    "text = gpt2.generate(sess,\n",
    "              length=40,\n",
    "              temperature=0.7,\n",
    "              prefix=neural,\n",
    "              nsamples=1,\n",
    "              batch_size=1,\n",
    "              return_as_list=True\n",
    "             )\n",
    "\n",
    "\n",
    "t = text[0].title()\n",
    "t = t.replace('<|Startoftext|>', '').replace('\\n', '') # remove extraneous stuff\n",
    "t = t[:t.index('<|Endoftext|>')] # only get one title\n",
    "print(t)"
   ]
  },
  {
   "cell_type": "markdown",
   "metadata": {},
   "source": [
    "**bunch of samples**"
   ]
  },
  {
   "cell_type": "code",
   "execution_count": null,
   "metadata": {},
   "outputs": [],
   "source": [
    "text = gpt2.generate(sess,\n",
    "#               length=40,\n",
    "              temperature=0.7,\n",
    "              prefix=None,\n",
    "              nsamples=100,\n",
    "              batch_size=1,\n",
    "              return_as_list=True\n",
    "             )\n",
    "\n",
    "\n",
    "t = text[0].title()\n",
    "t = t.replace('<|Startoftext|>', '').replace('\\n', '') # remove extraneous stuff\n",
    "t = t[:t.index('<|Endoftext|>')] # only get one title\n",
    "print(t)"
   ]
  },
  {
   "cell_type": "code",
   "execution_count": null,
   "metadata": {},
   "outputs": [],
   "source": []
  }
 ],
 "metadata": {
  "kernelspec": {
   "display_name": "Python 3",
   "language": "python",
   "name": "python3"
  },
  "language_info": {
   "codemirror_mode": {
    "name": "ipython",
    "version": 3
   },
   "file_extension": ".py",
   "mimetype": "text/x-python",
   "name": "python",
   "nbconvert_exporter": "python",
   "pygments_lexer": "ipython3",
   "version": "3.7.0"
  }
 },
 "nbformat": 4,
 "nbformat_minor": 4
}
